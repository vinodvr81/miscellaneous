{
 "cells": [
  {
   "cell_type": "markdown",
   "metadata": {},
   "source": [
    "# Example use case of try, except, and else in python and also \"with\" keyword"
   ]
  },
  {
   "cell_type": "code",
   "execution_count": 6,
   "metadata": {},
   "outputs": [
    {
     "name": "stdout",
     "output_type": "stream",
     "text": [
      "Can't open the file. Check whether it exits or not?\n",
      "Bye Bye\n"
     ]
    }
   ],
   "source": [
    "try:\n",
    "    open(\"hellopython.txt\",'r')\n",
    "    f.read()\n",
    "except:\n",
    "    print(\"Can't open the file. Check whether it exits or not?\")\n",
    "    \n",
    "else:\n",
    "    print(\"success\")\n",
    "    f.close\n",
    "print(\"Bye Bye\" )    "
   ]
  },
  {
   "cell_type": "code",
   "execution_count": 7,
   "metadata": {},
   "outputs": [
    {
     "name": "stdout",
     "output_type": "stream",
     "text": [
      "Can't open the file. Check whether it exits or not?\n",
      "Bye Bye\n"
     ]
    },
    {
     "ename": "NameError",
     "evalue": "name 'f' is not defined",
     "output_type": "error",
     "traceback": [
      "\u001b[1;31m---------------------------------------------------------------------------\u001b[0m",
      "\u001b[1;31mNameError\u001b[0m                                 Traceback (most recent call last)",
      "\u001b[1;32m<ipython-input-7-7edf26f927e2>\u001b[0m in \u001b[0;36m<module>\u001b[1;34m()\u001b[0m\n\u001b[0;32m      6\u001b[0m \u001b[1;32mfinally\u001b[0m\u001b[1;33m:\u001b[0m\u001b[1;33m\u001b[0m\u001b[0m\n\u001b[0;32m      7\u001b[0m     \u001b[0mprint\u001b[0m\u001b[1;33m(\u001b[0m\u001b[1;34m\"Bye Bye\"\u001b[0m \u001b[1;33m)\u001b[0m\u001b[1;33m\u001b[0m\u001b[0m\n\u001b[1;32m----> 8\u001b[1;33m     \u001b[0mf\u001b[0m\u001b[1;33m.\u001b[0m\u001b[0mclose\u001b[0m\u001b[1;33m(\u001b[0m\u001b[1;33m)\u001b[0m \u001b[1;31m# Note an error pops up as the file is not there\u001b[0m\u001b[1;33m\u001b[0m\u001b[0m\n\u001b[0m",
      "\u001b[1;31mNameError\u001b[0m: name 'f' is not defined"
     ]
    }
   ],
   "source": [
    "try:\n",
    "    open(\"hellopython.txt\",'r')\n",
    "    f.read()\n",
    "except:\n",
    "    print(\"Can't open the file. Check whether it exits or not?\")    \n",
    "finally:\n",
    "    print(\"Bye Bye\" ) \n",
    "    f.close() # Note an error pops up as the file is not there"
   ]
  },
  {
   "cell_type": "markdown",
   "metadata": {},
   "source": [
    "# Decorators Ref(http://book.pythontips.com/en/latest/decorators.html)"
   ]
  },
  {
   "cell_type": "markdown",
   "metadata": {},
   "source": [
    "# First let explore function return"
   ]
  },
  {
   "cell_type": "code",
   "execution_count": 3,
   "metadata": {},
   "outputs": [
    {
     "data": {
      "text/plain": [
       "6"
      ]
     },
     "execution_count": 3,
     "metadata": {},
     "output_type": "execute_result"
    }
   ],
   "source": [
    "def mulAdd(x,y,z):\n",
    "    return x+y+z\n",
    "\n",
    "mulAdd(1,2,3)"
   ]
  },
  {
   "cell_type": "code",
   "execution_count": 24,
   "metadata": {},
   "outputs": [
    {
     "name": "stdout",
     "output_type": "stream",
     "text": [
      "hi People\n"
     ]
    },
    {
     "ename": "NameError",
     "evalue": "name 'e' is not defined",
     "output_type": "error",
     "traceback": [
      "\u001b[1;31m---------------------------------------------------------------------------\u001b[0m",
      "\u001b[1;31mNameError\u001b[0m                                 Traceback (most recent call last)",
      "\u001b[1;32m<ipython-input-24-64e1d234a2b0>\u001b[0m in \u001b[0;36m<module>\u001b[1;34m()\u001b[0m\n\u001b[0;32m      3\u001b[0m \u001b[1;33m\u001b[0m\u001b[0m\n\u001b[0;32m      4\u001b[0m \u001b[0mprint\u001b[0m\u001b[1;33m(\u001b[0m\u001b[0mhi\u001b[0m\u001b[1;33m(\u001b[0m\u001b[1;33m)\u001b[0m\u001b[1;33m)\u001b[0m\u001b[1;33m\u001b[0m\u001b[0m\n\u001b[1;32m----> 5\u001b[1;33m \u001b[0me\u001b[0m\u001b[1;33m\u001b[0m\u001b[0m\n\u001b[0m\u001b[0;32m      6\u001b[0m \u001b[0mgreet\u001b[0m \u001b[1;33m=\u001b[0m \u001b[0mhi\u001b[0m\u001b[1;33m\u001b[0m\u001b[0m\n\u001b[0;32m      7\u001b[0m \u001b[1;31m# We are not using parentheses here because we are not calling the function hi\u001b[0m\u001b[1;33m\u001b[0m\u001b[1;33m\u001b[0m\u001b[0m\n",
      "\u001b[1;31mNameError\u001b[0m: name 'e' is not defined"
     ]
    }
   ],
   "source": [
    "def hi(name=\"People\"):\n",
    "    return \"hi \" + name\n",
    "\n",
    "print(hi())\n",
    "e\n",
    "greet = hi\n",
    "# We are not using parentheses here because we are not calling the function hi\n",
    "# instead we are just putting it into the greet variable. Let's try to run this\n",
    "\n",
    "print(greet())\n",
    "\n",
    "\n",
    "# Let's see what happens if we delete the old hi function!\n",
    "del hi\n",
    "print(hi())    "
   ]
  },
  {
   "cell_type": "code",
   "execution_count": 25,
   "metadata": {},
   "outputs": [
    {
     "name": "stdout",
     "output_type": "stream",
     "text": [
      "hi reverse of People is ? elpoeP\n"
     ]
    }
   ],
   "source": [
    "print(greet('reverse of People is ? {}'.format('People'[::-1])))\n",
    "#outputs: 'hi, reverse of People is ?'"
   ]
  },
  {
   "cell_type": "markdown",
   "metadata": {},
   "source": [
    "#  Returning functions from within functions:"
   ]
  },
  {
   "cell_type": "code",
   "execution_count": 26,
   "metadata": {},
   "outputs": [
    {
     "name": "stdout",
     "output_type": "stream",
     "text": [
      "<function nameadd.<locals>.greet at 0x0000025192026840>\n",
      "now you are in the greet() function\n"
     ]
    }
   ],
   "source": [
    "def nameadd(name=\"Vinod\"):\n",
    "    def greet():\n",
    "        return \"now you are in the greet() function\"\n",
    "\n",
    "    def welcome():\n",
    "        return \"now you are in the welcome() function\"\n",
    "\n",
    "    if name == \"Vinod\":\n",
    "        return greet\n",
    "    else:\n",
    "        return welcome\n",
    "\n",
    "a = nameadd()\n",
    "print(a)\n",
    "\n",
    "print(a())\n"
   ]
  },
  {
   "cell_type": "code",
   "execution_count": 39,
   "metadata": {},
   "outputs": [
    {
     "data": {
      "text/plain": [
       "function"
      ]
     },
     "execution_count": 39,
     "metadata": {},
     "output_type": "execute_result"
    }
   ],
   "source": [
    "type(a) "
   ]
  },
  {
   "cell_type": "code",
   "execution_count": 28,
   "metadata": {},
   "outputs": [
    {
     "name": "stdout",
     "output_type": "stream",
     "text": [
      "<function nameadd.<locals>.welcome at 0x0000025192026950>\n"
     ]
    }
   ],
   "source": [
    "print(nameadd('Rama'))"
   ]
  },
  {
   "cell_type": "code",
   "execution_count": 29,
   "metadata": {},
   "outputs": [
    {
     "data": {
      "text/plain": [
       "<function __main__.nameadd.<locals>.welcome()>"
      ]
     },
     "execution_count": 29,
     "metadata": {},
     "output_type": "execute_result"
    }
   ],
   "source": [
    "nameadd('Rama')"
   ]
  },
  {
   "cell_type": "code",
   "execution_count": 31,
   "metadata": {},
   "outputs": [
    {
     "data": {
      "text/plain": [
       "'now you are in the welcome() function'"
      ]
     },
     "execution_count": 31,
     "metadata": {},
     "output_type": "execute_result"
    }
   ],
   "source": [
    "nameadd('Rama')() # Calling a inner function"
   ]
  },
  {
   "cell_type": "markdown",
   "metadata": {},
   "source": [
    "# Giving a function as an argument to another function:"
   ]
  },
  {
   "cell_type": "code",
   "execution_count": 32,
   "metadata": {},
   "outputs": [
    {
     "name": "stdout",
     "output_type": "stream",
     "text": [
      "I am doing some boring work before executing hi()\n",
      "hi Vinod!\n"
     ]
    }
   ],
   "source": [
    "def hi():\n",
    "    return \"hi Vinod!\"\n",
    "\n",
    "def doSomethingBeforeHi(func):\n",
    "    print(\"I am doing some boring work before executing hi()\")\n",
    "    print(func())\n",
    "\n",
    "doSomethingBeforeHi(hi)\n"
   ]
  },
  {
   "cell_type": "markdown",
   "metadata": {},
   "source": [
    "# Writing your first decorator:"
   ]
  },
  {
   "cell_type": "code",
   "execution_count": 35,
   "metadata": {},
   "outputs": [
    {
     "name": "stdout",
     "output_type": "stream",
     "text": [
      "[3] function needs decoration\n"
     ]
    }
   ],
   "source": [
    "def a_new_decorator(func):\n",
    "\n",
    "    def wrapTheFunction():\n",
    "        print(\"[1] printing func()\")\n",
    "\n",
    "        func()\n",
    "\n",
    "        print(\"[2] printing func()\")\n",
    "\n",
    "    return wrapTheFunction\n",
    "\n",
    "def a_function_requiring_decoration():\n",
    "    print(\"[3] function needs decoration\")\n",
    "\n",
    "a_function_requiring_decoration()\n"
   ]
  },
  {
   "cell_type": "code",
   "execution_count": 36,
   "metadata": {},
   "outputs": [],
   "source": [
    "a_function_requiring_decoration = a_new_decorator(a_function_requiring_decoration)\n"
   ]
  },
  {
   "cell_type": "code",
   "execution_count": 37,
   "metadata": {},
   "outputs": [
    {
     "name": "stdout",
     "output_type": "stream",
     "text": [
      "[1] printing func()\n",
      "[3] function needs decoration\n",
      "[2] printing func()\n"
     ]
    }
   ],
   "source": [
    "a_function_requiring_decoration()"
   ]
  },
  {
   "cell_type": "markdown",
   "metadata": {},
   "source": [
    "# Using @ symbol"
   ]
  },
  {
   "cell_type": "code",
   "execution_count": 40,
   "metadata": {},
   "outputs": [
    {
     "name": "stdout",
     "output_type": "stream",
     "text": [
      "[1] printing func()\n",
      "I am the function which needs some decoration to remove my foul smell\n",
      "[2] printing func()\n"
     ]
    }
   ],
   "source": [
    "@a_new_decorator\n",
    "def a_function_requiring_decoration():\n",
    "    \"\"\"Hey you! Decorate me!\"\"\"\n",
    "    print(\"I am the function which needs some decoration to \"\n",
    "          \"remove my foul smell\")\n",
    "a_function_requiring_decoration()\n",
    "a_function_requiring_decoration = a_new_decorator(a_function_requiring_decoration)"
   ]
  },
  {
   "cell_type": "code",
   "execution_count": 42,
   "metadata": {},
   "outputs": [
    {
     "data": {
      "text/plain": [
       "'wrapTheFunction'"
      ]
     },
     "execution_count": 42,
     "metadata": {},
     "output_type": "execute_result"
    }
   ],
   "source": [
    "a_function_requiring_decoration.__name__"
   ]
  },
  {
   "cell_type": "code",
   "execution_count": 45,
   "metadata": {},
   "outputs": [
    {
     "data": {
      "text/plain": [
       "'a_new_decorator'"
      ]
     },
     "execution_count": 45,
     "metadata": {},
     "output_type": "execute_result"
    }
   ],
   "source": [
    "a_new_decorator.__name__"
   ]
  },
  {
   "cell_type": "markdown",
   "metadata": {},
   "source": [
    "# That’s not what we expected! Its name is “a_function_requiring_decoration”. Well our function was replaced by wrapTheFunction. It overrode the name and docstring of our function. Luckily Python provides us a simple function to solve this problem and that is functools.wraps. Let’s modify our previous example to use functools.wraps:"
   ]
  },
  {
   "cell_type": "code",
   "execution_count": 49,
   "metadata": {},
   "outputs": [
    {
     "name": "stdout",
     "output_type": "stream",
     "text": [
      "[1]\n",
      "Will come in the middle ohhoo\n",
      "[2]\n"
     ]
    }
   ],
   "source": [
    "from functools import wraps\n",
    "\n",
    "def a_new_decorator(a_func):\n",
    "    @wraps(a_func)\n",
    "    def wrapTheFunction():\n",
    "        print(\"[1]\")\n",
    "        a_func()\n",
    "        print(\"[2]\")\n",
    "    return wrapTheFunction\n",
    "\n",
    "@a_new_decorator\n",
    "def a_function_requiring_decoration():\n",
    "    \"\"\"Hey yo! Decorate me!\"\"\"\n",
    "    print(\"Will come in the middle ohhoo\")\n",
    "\n",
    "a_function_requiring_decoration()"
   ]
  },
  {
   "cell_type": "code",
   "execution_count": 50,
   "metadata": {},
   "outputs": [
    {
     "name": "stdout",
     "output_type": "stream",
     "text": [
      "a_function_requiring_decoration\n"
     ]
    }
   ],
   "source": [
    "print(a_function_requiring_decoration.__name__)"
   ]
  },
  {
   "cell_type": "markdown",
   "metadata": {},
   "source": [
    "# Debugging in python"
   ]
  },
  {
   "cell_type": "code",
   "execution_count": 53,
   "metadata": {},
   "outputs": [
    {
     "name": "stdout",
     "output_type": "stream",
     "text": [
      "> <ipython-input-53-1234159607d8>(5)make_bread()\n",
      "-> return \"I don't have time\"\n",
      "(Pdb) n\n",
      "--Return--\n",
      "> <ipython-input-53-1234159607d8>(5)make_bread()->\"I don't have time\"\n",
      "-> return \"I don't have time\"\n",
      "(Pdb) n\n",
      "--Call--\n",
      "> c:\\programdata\\anaconda3\\lib\\site-packages\\ipykernel\\iostream.py(366)write()\n",
      "-> def write(self, string):\n",
      "(Pdb) n\n",
      "> c:\\programdata\\anaconda3\\lib\\site-packages\\ipykernel\\iostream.py(367)write()\n",
      "-> if self.pub_thread is None:\n",
      "(Pdb) n\n",
      "> c:\\programdata\\anaconda3\\lib\\site-packages\\ipykernel\\iostream.py(371)write()\n",
      "-> if not isinstance(string, unicode_type):\n",
      "(Pdb) n\n",
      "> c:\\programdata\\anaconda3\\lib\\site-packages\\ipykernel\\iostream.py(374)write()\n",
      "-> is_child = (not self._is_master_process())\n",
      "(Pdb) n\n",
      "> c:\\programdata\\anaconda3\\lib\\site-packages\\ipykernel\\iostream.py(376)write()\n",
      "-> self.pub_thread.schedule(lambda : self._buffer.write(string))\n",
      "(Pdb) n\n",
      "I don't have time> c:\\programdata\\anaconda3\\lib\\site-packages\\ipykernel\\iostream.py(377)write()\n",
      "-> if is_child:\n",
      "(Pdb) n\n",
      "> c:\\programdata\\anaconda3\\lib\\site-packages\\ipykernel\\iostream.py(384)write()\n",
      "-> self._schedule_flush()\n",
      "(Pdb) n\n",
      "--Return--\n",
      "> c:\\programdata\\anaconda3\\lib\\site-packages\\ipykernel\\iostream.py(384)write()->None\n",
      "-> self._schedule_flush()\n",
      "(Pdb) n\n",
      "--Call--\n",
      "> c:\\programdata\\anaconda3\\lib\\site-packages\\ipykernel\\iostream.py(366)write()\n",
      "-> def write(self, string):\n",
      "(Pdb) n\n",
      "> c:\\programdata\\anaconda3\\lib\\site-packages\\ipykernel\\iostream.py(367)write()\n",
      "-> if self.pub_thread is None:\n",
      "(Pdb) c\n",
      "\n"
     ]
    }
   ],
   "source": [
    "import pdb\n",
    "\n",
    "def make_bread():\n",
    "    pdb.set_trace()\n",
    "    return \"I don't have time\"\n",
    "\n",
    "print(make_bread())"
   ]
  },
  {
   "cell_type": "markdown",
   "metadata": {},
   "source": [
    "\n",
    "    c: continue execution\n",
    "    w: shows the context of the current line it is executing.\n",
    "    a: print the argument list of the current function\n",
    "    s: Execute the current line and stop at the first possible occasion.\n",
    "    n: Continue execution until the next line in the current function is reached or it returns.\n"
   ]
  },
  {
   "cell_type": "markdown",
   "metadata": {},
   "source": [
    "# Ternary Operators"
   ]
  },
  {
   "cell_type": "markdown",
   "metadata": {},
   "source": [
    "DEF\n",
    "\n",
    "[on_true] if [expression] else [on_false]\n",
    "\n"
   ]
  },
  {
   "cell_type": "code",
   "execution_count": 56,
   "metadata": {},
   "outputs": [
    {
     "name": "stdout",
     "output_type": "stream",
     "text": [
      "A Father to a Son\n"
     ]
    }
   ],
   "source": [
    "name1 = 'vinod'\n",
    "\n",
    "name2 = 'nevaan'\n",
    " \n",
    "string1 = 'A Father to a Son' if name1 != name2 else 'No Relation'\n",
    " \n",
    "print(string1)"
   ]
  },
  {
   "cell_type": "markdown",
   "metadata": {},
   "source": [
    "# Generators\n",
    "\n",
    "Generators are iterators, but you can only iterate over them once. It’s because they do not store all the values in memory, they generate the values on the fly. You use them by iterating over them,"
   ]
  },
  {
   "cell_type": "code",
   "execution_count": 57,
   "metadata": {},
   "outputs": [
    {
     "name": "stdout",
     "output_type": "stream",
     "text": [
      "0\n",
      "1\n",
      "2\n"
     ]
    },
    {
     "ename": "StopIteration",
     "evalue": "",
     "output_type": "error",
     "traceback": [
      "\u001b[1;31m---------------------------------------------------------------------------\u001b[0m",
      "\u001b[1;31mStopIteration\u001b[0m                             Traceback (most recent call last)",
      "\u001b[1;32m<ipython-input-57-fc13b4ccc394>\u001b[0m in \u001b[0;36m<module>\u001b[1;34m()\u001b[0m\n\u001b[0;32m      7\u001b[0m \u001b[0mprint\u001b[0m\u001b[1;33m(\u001b[0m\u001b[0mnext\u001b[0m\u001b[1;33m(\u001b[0m\u001b[0mgen\u001b[0m\u001b[1;33m)\u001b[0m\u001b[1;33m)\u001b[0m\u001b[1;33m\u001b[0m\u001b[0m\n\u001b[0;32m      8\u001b[0m \u001b[0mprint\u001b[0m\u001b[1;33m(\u001b[0m\u001b[0mnext\u001b[0m\u001b[1;33m(\u001b[0m\u001b[0mgen\u001b[0m\u001b[1;33m)\u001b[0m\u001b[1;33m)\u001b[0m\u001b[1;33m\u001b[0m\u001b[0m\n\u001b[1;32m----> 9\u001b[1;33m \u001b[0mprint\u001b[0m\u001b[1;33m(\u001b[0m\u001b[0mnext\u001b[0m\u001b[1;33m(\u001b[0m\u001b[0mgen\u001b[0m\u001b[1;33m)\u001b[0m\u001b[1;33m)\u001b[0m\u001b[1;33m\u001b[0m\u001b[0m\n\u001b[0m",
      "\u001b[1;31mStopIteration\u001b[0m: "
     ]
    }
   ],
   "source": [
    "def generator_function():\n",
    "    for i in range(3):\n",
    "        yield i\n",
    "\n",
    "gen = generator_function()\n",
    "print(next(gen))\n",
    "print(next(gen))\n",
    "print(next(gen))\n",
    "print(next(gen))"
   ]
  },
  {
   "cell_type": "code",
   "execution_count": 58,
   "metadata": {},
   "outputs": [
    {
     "name": "stdout",
     "output_type": "stream",
     "text": [
      "8\n"
     ]
    }
   ],
   "source": [
    "def add(value1, value2):\n",
    "    return value1 + value2\n",
    "\n",
    "result = add(3, 5)\n",
    "print(result)\n",
    "\n"
   ]
  },
  {
   "cell_type": "markdown",
   "metadata": {},
   "source": [
    "# example of \\_\\_add\\_\\_ class method"
   ]
  },
  {
   "cell_type": "code",
   "execution_count": 85,
   "metadata": {},
   "outputs": [
    {
     "name": "stdout",
     "output_type": "stream",
     "text": [
      "Vinod  Vukkalam a Father to a Son of  Nevaan  Vukkalam, Okay\n"
     ]
    }
   ],
   "source": [
    "class Ruler(object):\n",
    "    def __init__(self, firstname, lastname):\n",
    "        self.firstname = firstname\n",
    "        self.lastname = lastname\n",
    "    def __add__(self, other):\n",
    "        f = self.firstname + self.lastname \n",
    "        i = other.firstname + other.lastname\n",
    "        return Ruler(f + ' a Father to a Son of ', i)\n",
    "    def __str__(self):\n",
    "        return str(self.firstname) + str(self.lastname) + ', Okay'\n",
    "\n",
    "r1 = Ruler('Vinod ', ' Vukkalam')\n",
    "r2 = Ruler(' Nevaan ', ' Vukkalam')\n",
    "r3 = r1 + r2\n",
    "print(r3)\n"
   ]
  },
  {
   "cell_type": "markdown",
   "metadata": {},
   "source": [
    "# Global & Return"
   ]
  },
  {
   "cell_type": "code",
   "execution_count": 86,
   "metadata": {},
   "outputs": [
    {
     "name": "stdout",
     "output_type": "stream",
     "text": [
      "8\n"
     ]
    }
   ],
   "source": [
    "def add(value1,value2):\n",
    "    global result\n",
    "    result = value1 + value2\n",
    "\n",
    "add(3,5)\n",
    "print(result)"
   ]
  },
  {
   "cell_type": "code",
   "execution_count": 89,
   "metadata": {},
   "outputs": [
    {
     "name": "stdout",
     "output_type": "stream",
     "text": [
      "Person(name='Vinod', age=36) <class '__main__.Person'>\n",
      "Vinod\n",
      "36\n",
      "Vinod\n",
      "36\n",
      "Vinod\n",
      "36\n"
     ]
    }
   ],
   "source": [
    "from collections import namedtuple\n",
    "\n",
    "def profile():\n",
    "    Person = namedtuple('Person', 'name age')\n",
    "    return Person(name=\"Vinod\", age=36)\n",
    "\n",
    "# Use as namedtuple\n",
    "p = profile()\n",
    "print(p, type(p))\n",
    "# Person(name='Vinod', age=36) <class '__main__.Person'>\n",
    "print(p.name)\n",
    "# Danny\n",
    "print(p.age)\n",
    "#31\n",
    "\n",
    "# Use as plain tuple\n",
    "p = profile()\n",
    "print(p[0])\n",
    "# Vinod\n",
    "print(p[1])\n",
    "#36\n",
    "\n",
    "# Unpack it immediatly\n",
    "name, age = profile()\n",
    "print(name)\n",
    "# Vinod\n",
    "print(age)"
   ]
  },
  {
   "cell_type": "markdown",
   "metadata": {},
   "source": [
    "It’s not a bug. It’s mutability in action. Whenever you assign a variable to another variable of mutable datatype, any changes to the data are reflected by both variables. The new variable is just an alias for the old variable. This is only true for mutable datatypes. Here is a gotcha involving functions and mutable data types:"
   ]
  },
  {
   "cell_type": "code",
   "execution_count": 90,
   "metadata": {},
   "outputs": [
    {
     "data": {
      "text/plain": [
       "[1, 2, 3]"
      ]
     },
     "execution_count": 90,
     "metadata": {},
     "output_type": "execute_result"
    }
   ],
   "source": [
    "def add_to(num, target=[]):\n",
    "    target.append(num)\n",
    "    return target\n",
    "\n",
    "add_to(1)\n",
    "\n",
    "\n",
    "add_to(2)\n",
    "\n",
    "\n",
    "add_to(3)\n"
   ]
  },
  {
   "cell_type": "markdown",
   "metadata": {},
   "source": [
    "    For virtualenv\n",
    "    \n",
    "    # $ virtualenv myproject\n",
    "    #   $ source myproject/bin/activate\n",
    "    # $ deactivate\n",
    "\n"
   ]
  },
  {
   "cell_type": "code",
   "execution_count": null,
   "metadata": {},
   "outputs": [],
   "source": []
  },
  {
   "cell_type": "markdown",
   "metadata": {},
   "source": [
    "# defaultdict\n",
    "\n",
    "I personally use defaultdict quite a bit. Unlike dict, with defaultdict you do not need to check whether a key is present or not. So we can do:"
   ]
  },
  {
   "cell_type": "code",
   "execution_count": 100,
   "metadata": {},
   "outputs": [
    {
     "name": "stdout",
     "output_type": "stream",
     "text": [
      "defaultdict(<class 'list'>, {'Banana': ['Yellow'], 'Sky': ['Blue'], 'Paddy Fields': ['Green'], 'Ashes': ['Black'], 'Blood': ['Red'], 'bike': ['Silver']})\n"
     ]
    }
   ],
   "source": [
    "from collections import defaultdict\n",
    "\n",
    "colours = (\n",
    "    ('Banana', 'Yellow'),\n",
    "    ('Sky', 'Blue'),\n",
    "    ('Paddy Fields', 'Green'),\n",
    "    ('Ashes', 'Black'),\n",
    "    ('Blood', 'Red'),\n",
    "    ('bike', 'Silver'),\n",
    ")\n",
    "\n",
    "favourite_colours = defaultdict(list)\n",
    "\n",
    "for name, colour in colours:\n",
    "    favourite_colours[name].append(colour)\n",
    "    \n",
    "type(favourite_colours)\n",
    "\n",
    "print(favourite_colours)\n"
   ]
  },
  {
   "cell_type": "code",
   "execution_count": null,
   "metadata": {},
   "outputs": [],
   "source": []
  },
  {
   "cell_type": "markdown",
   "metadata": {},
   "source": [
    "They are different types of inheritance supported by Python:\n",
    "\n",
    "    (1). Single Inheritance – where a derived class acquires the members of a single super class.\n",
    "    (2). Multi-level inheritance – a derived class d1 in inherited from base class base1, and d2 is inherited from base2.\n",
    "    (3). Hierarchical inheritance – from one base class you can inherit any number of child classes\n",
    "    (4). Multiple inheritance – a derived class is inherited from more than one base class."
   ]
  },
  {
   "cell_type": "markdown",
   "metadata": {},
   "source": [
    "OrderedDict keeps its entries sorted as they are initially inserted. Overwriting a value of an existing key doesn’t change the position of that key. However, deleting and reinserting an entry moves the key to the end of the dictionary."
   ]
  },
  {
   "cell_type": "code",
   "execution_count": 101,
   "metadata": {},
   "outputs": [
    {
     "name": "stdout",
     "output_type": "stream",
     "text": [
      "Red 198\n",
      "Green 170\n",
      "Blue 160\n"
     ]
    }
   ],
   "source": [
    "from collections import OrderedDict\n",
    "\n",
    "colours = OrderedDict([(\"Red\", 198), (\"Green\", 170), (\"Blue\", 160)])\n",
    "for key, value in colours.items():\n",
    "    print(key, value)"
   ]
  },
  {
   "cell_type": "markdown",
   "metadata": {},
   "source": [
    "# Enumerate It allows us to loop over something and have an automatic counter. Here is an example:"
   ]
  },
  {
   "cell_type": "code",
   "execution_count": 103,
   "metadata": {},
   "outputs": [
    {
     "name": "stdout",
     "output_type": "stream",
     "text": [
      "1 apple\n",
      "2 banana\n",
      "3 grapes\n",
      "4 pear\n"
     ]
    }
   ],
   "source": [
    "my_list = ['apple', 'banana', 'grapes', 'pear']\n",
    "for c, value in enumerate(my_list, 1):\n",
    "    print(c, value)"
   ]
  },
  {
   "cell_type": "markdown",
   "metadata": {},
   "source": [
    "# id returns the unique ids of various objects. For instance:"
   ]
  },
  {
   "cell_type": "code",
   "execution_count": 104,
   "metadata": {},
   "outputs": [
    {
     "name": "stdout",
     "output_type": "stream",
     "text": [
      "2549364551328\n"
     ]
    }
   ],
   "source": [
    "name = \"Vinod\"\n",
    "print(id(name))\n"
   ]
  },
  {
   "cell_type": "markdown",
   "metadata": {},
   "source": [
    "# Inspect module\n",
    "\n",
    "The inspect module also provides several useful functions to get information about live objects. For example you can check the members of an object by running:"
   ]
  },
  {
   "cell_type": "code",
   "execution_count": 105,
   "metadata": {},
   "outputs": [
    {
     "name": "stdout",
     "output_type": "stream",
     "text": [
      "[('__add__', <slot wrapper '__add__' of 'str' objects>), ('__class__', <class 'type'>), ('__contains__', <slot wrapper '__contains__' of 'str' objects>), ('__delattr__', <slot wrapper '__delattr__' of 'object' objects>), ('__dir__', <method '__dir__' of 'object' objects>), ('__doc__', \"str(object='') -> str\\nstr(bytes_or_buffer[, encoding[, errors]]) -> str\\n\\nCreate a new string object from the given object. If encoding or\\nerrors is specified, then the object must expose a data buffer\\nthat will be decoded using the given encoding and error handler.\\nOtherwise, returns the result of object.__str__() (if defined)\\nor repr(object).\\nencoding defaults to sys.getdefaultencoding().\\nerrors defaults to 'strict'.\"), ('__eq__', <slot wrapper '__eq__' of 'str' objects>), ('__format__', <method '__format__' of 'str' objects>), ('__ge__', <slot wrapper '__ge__' of 'str' objects>), ('__getattribute__', <slot wrapper '__getattribute__' of 'str' objects>), ('__getitem__', <slot wrapper '__getitem__' of 'str' objects>), ('__getnewargs__', <method '__getnewargs__' of 'str' objects>), ('__gt__', <slot wrapper '__gt__' of 'str' objects>), ('__hash__', <slot wrapper '__hash__' of 'str' objects>), ('__init__', <slot wrapper '__init__' of 'object' objects>), ('__init_subclass__', <built-in method __init_subclass__ of type object at 0x000000005FC3CEF0>), ('__iter__', <slot wrapper '__iter__' of 'str' objects>), ('__le__', <slot wrapper '__le__' of 'str' objects>), ('__len__', <slot wrapper '__len__' of 'str' objects>), ('__lt__', <slot wrapper '__lt__' of 'str' objects>), ('__mod__', <slot wrapper '__mod__' of 'str' objects>), ('__mul__', <slot wrapper '__mul__' of 'str' objects>), ('__ne__', <slot wrapper '__ne__' of 'str' objects>), ('__new__', <built-in method __new__ of type object at 0x000000005FC3CEF0>), ('__reduce__', <method '__reduce__' of 'object' objects>), ('__reduce_ex__', <method '__reduce_ex__' of 'object' objects>), ('__repr__', <slot wrapper '__repr__' of 'str' objects>), ('__rmod__', <slot wrapper '__rmod__' of 'str' objects>), ('__rmul__', <slot wrapper '__rmul__' of 'str' objects>), ('__setattr__', <slot wrapper '__setattr__' of 'object' objects>), ('__sizeof__', <method '__sizeof__' of 'str' objects>), ('__str__', <slot wrapper '__str__' of 'str' objects>), ('__subclasshook__', <built-in method __subclasshook__ of type object at 0x000000005FC3CEF0>), ('capitalize', <method 'capitalize' of 'str' objects>), ('casefold', <method 'casefold' of 'str' objects>), ('center', <method 'center' of 'str' objects>), ('count', <method 'count' of 'str' objects>), ('encode', <method 'encode' of 'str' objects>), ('endswith', <method 'endswith' of 'str' objects>), ('expandtabs', <method 'expandtabs' of 'str' objects>), ('find', <method 'find' of 'str' objects>), ('format', <method 'format' of 'str' objects>), ('format_map', <method 'format_map' of 'str' objects>), ('index', <method 'index' of 'str' objects>), ('isalnum', <method 'isalnum' of 'str' objects>), ('isalpha', <method 'isalpha' of 'str' objects>), ('isdecimal', <method 'isdecimal' of 'str' objects>), ('isdigit', <method 'isdigit' of 'str' objects>), ('isidentifier', <method 'isidentifier' of 'str' objects>), ('islower', <method 'islower' of 'str' objects>), ('isnumeric', <method 'isnumeric' of 'str' objects>), ('isprintable', <method 'isprintable' of 'str' objects>), ('isspace', <method 'isspace' of 'str' objects>), ('istitle', <method 'istitle' of 'str' objects>), ('isupper', <method 'isupper' of 'str' objects>), ('join', <method 'join' of 'str' objects>), ('ljust', <method 'ljust' of 'str' objects>), ('lower', <method 'lower' of 'str' objects>), ('lstrip', <method 'lstrip' of 'str' objects>), ('maketrans', <built-in method maketrans of type object at 0x000000005FC3CEF0>), ('partition', <method 'partition' of 'str' objects>), ('replace', <method 'replace' of 'str' objects>), ('rfind', <method 'rfind' of 'str' objects>), ('rindex', <method 'rindex' of 'str' objects>), ('rjust', <method 'rjust' of 'str' objects>), ('rpartition', <method 'rpartition' of 'str' objects>), ('rsplit', <method 'rsplit' of 'str' objects>), ('rstrip', <method 'rstrip' of 'str' objects>), ('split', <method 'split' of 'str' objects>), ('splitlines', <method 'splitlines' of 'str' objects>), ('startswith', <method 'startswith' of 'str' objects>), ('strip', <method 'strip' of 'str' objects>), ('swapcase', <method 'swapcase' of 'str' objects>), ('title', <method 'title' of 'str' objects>), ('translate', <method 'translate' of 'str' objects>), ('upper', <method 'upper' of 'str' objects>), ('zfill', <method 'zfill' of 'str' objects>)]\n"
     ]
    }
   ],
   "source": [
    "import inspect\n",
    "print(inspect.getmembers(str))"
   ]
  },
  {
   "cell_type": "markdown",
   "metadata": {},
   "source": [
    "# Coroutines\n",
    "\n",
    "Coroutines are similar to generators with a few differences. The main differences are:\n",
    "\n",
    "    generators are data producers\n",
    "    coroutines are data consumers\n"
   ]
  },
  {
   "cell_type": "code",
   "execution_count": 109,
   "metadata": {},
   "outputs": [
    {
     "name": "stdout",
     "output_type": "stream",
     "text": [
      "Searching for coroutine\n",
      "I love coroutines instead!\n"
     ]
    }
   ],
   "source": [
    "def grepCo(pattern):\n",
    "    print(\"Searching for\", pattern)\n",
    "    while True:\n",
    "        line = (yield)\n",
    "        if pattern in line:\n",
    "            print(line)\n",
    "            \n",
    "            \n",
    "search = grepCo('coroutine')\n",
    "next(search)\n",
    "\n",
    "search.send(\"I love you\")\n",
    "search.send(\"Don't you love me?\")\n",
    "search.send(\"I love coroutines instead!\")  \n",
    "\n",
    "search = grepCo('coroutine')\n",
    "\n",
    "search.close()"
   ]
  },
  {
   "cell_type": "code",
   "execution_count": 110,
   "metadata": {},
   "outputs": [
    {
     "ename": "SyntaxError",
     "evalue": "invalid syntax (<ipython-input-110-14210cfc0dad>, line 1)",
     "output_type": "error",
     "traceback": [
      "\u001b[1;36m  File \u001b[1;32m\"<ipython-input-110-14210cfc0dad>\"\u001b[1;36m, line \u001b[1;32m1\u001b[0m\n\u001b[1;33m    python -m http.server\u001b[0m\n\u001b[1;37m                 ^\u001b[0m\n\u001b[1;31mSyntaxError\u001b[0m\u001b[1;31m:\u001b[0m invalid syntax\n"
     ]
    }
   ],
   "source": [
    "python -m http.server"
   ]
  },
  {
   "cell_type": "code",
   "execution_count": 114,
   "metadata": {},
   "outputs": [
    {
     "name": "stdout",
     "output_type": "stream",
     "text": [
      "{'a': 1, 'b': 2, 'c': 3, 'd': 4, 'e': 5}\n",
      "range(0, 10)\n",
      "[]\n",
      "[1, 2, 3, 4, 5]\n",
      "[1, 2, 3, 4, 5]\n",
      "{0: 0, 1: 1, 2: 4, 3: 9, 4: 16, 5: 25, 6: 36, 7: 49, 8: 64, 9: 81}\n",
      "[[0, 0], [1, 1], [2, 4], [3, 9], [4, 16], [5, 25], [6, 36], [7, 49], [8, 64], [9, 81]]\n"
     ]
    }
   ],
   "source": [
    "A0 = dict(zip(('a','b','c','d','e'),(1,2,3,4,5)))\n",
    "\n",
    "A1 = range(10)\n",
    "\n",
    "A2 = sorted([i for i in A1 if i in A0])\n",
    "\n",
    "A3 = sorted([A0[s] for s in A0])\n",
    "\n",
    "A4 = [i for i in A1 if i in A3]\n",
    "\n",
    "A5 = {i:i*i for i in A1}\n",
    "\n",
    "A6 = [[i,i*i] for i in A1]\n",
    "\n",
    "print(A0)\n",
    "print(A1)\n",
    "print(A2)\n",
    "print(A3)\n",
    "print(A4)\n",
    "print(A5)\n",
    "print(A6)"
   ]
  },
  {
   "cell_type": "markdown",
   "metadata": {},
   "source": [
    "To modify the strings, Python’s “re” module is providing 3 methods. They are:\n",
    "\n",
    "    split() – uses a regex pattern to “split” a given string into a list.\n",
    "    sub() – finds all substrings where the regex pattern matches and then replace them with a different string\n",
    "    subn() – it is similar to sub() and also returns the new string along with the no. of replacements."
   ]
  },
  {
   "cell_type": "code",
   "execution_count": 129,
   "metadata": {},
   "outputs": [
    {
     "name": "stdout",
     "output_type": "stream",
     "text": [
      "Pattern Search Saa*\n",
      "['Saa', 'Saaaa', 'Saaa']\n",
      "\n",
      "\n",
      "Pattern Search Saa+\n",
      "['Saa', 'Saaaa', 'Saaa']\n",
      "\n",
      "\n",
      "Pattern Search Saa*?\n",
      "['Sa', 'Sa', 'Sa']\n",
      "\n",
      "\n",
      "Pattern Search Saa+?\n",
      "['Saa', 'Saa', 'Saa']\n",
      "\n",
      "\n",
      "Pattern Search GG+\n",
      "['GG', 'GGGGGGG']\n",
      "\n",
      "\n"
     ]
    }
   ],
   "source": [
    "import re\n",
    "\n",
    "def PatternMatch(Pattern,Text):\n",
    "    for pat in Pattern:\n",
    "        print(\"Pattern Search {}\".format(pat))\n",
    "        print(re.findall(pat,Text))\n",
    "        print('\\n')\n",
    "        \n",
    "Text = 'SaaSaaaaSaaaSAASAASAASAAsaaaaSAAsaaaasaaaaSAAAGTACACACAACCCCCCACCCCCCATATATATATATTTTTTGTGTGTGTGTGGTGGGGGGG'    \n",
    "Pattern = ['Saa*']\n",
    "\n",
    "PatternMatch(Pattern,Text)\n",
    "\n",
    "Pattern1 = ['Saa+']\n",
    "\n",
    "PatternMatch(Pattern1,Text)\n",
    "\n",
    "\n",
    "Pattern = ['Saa*?']\n",
    "\n",
    "PatternMatch(Pattern,Text)\n",
    "\n",
    "\n",
    "Pattern = ['Saa+?']\n",
    "\n",
    "PatternMatch(Pattern,Text)\n",
    "\n",
    "Pattern = ['GG+']\n",
    "\n",
    "PatternMatch(Pattern,Text)"
   ]
  },
  {
   "cell_type": "code",
   "execution_count": null,
   "metadata": {},
   "outputs": [],
   "source": []
  }
 ],
 "metadata": {
  "kernelspec": {
   "display_name": "Python 3",
   "language": "python",
   "name": "python3"
  },
  "language_info": {
   "codemirror_mode": {
    "name": "ipython",
    "version": 3
   },
   "file_extension": ".py",
   "mimetype": "text/x-python",
   "name": "python",
   "nbconvert_exporter": "python",
   "pygments_lexer": "ipython3",
   "version": "3.6.5"
  }
 },
 "nbformat": 4,
 "nbformat_minor": 2
}
