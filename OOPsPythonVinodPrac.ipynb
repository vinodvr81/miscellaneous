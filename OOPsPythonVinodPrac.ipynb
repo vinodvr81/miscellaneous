{
 "cells": [
  {
   "cell_type": "markdown",
   "metadata": {},
   "source": [
    "# Everything in Python is an obkect"
   ]
  },
  {
   "cell_type": "code",
   "execution_count": 1,
   "metadata": {},
   "outputs": [
    {
     "name": "stdout",
     "output_type": "stream",
     "text": [
      "<class '__main__.trial'>\n"
     ]
    }
   ],
   "source": [
    "class trial():\n",
    "    pass\n",
    "x = trial()\n",
    "print(type(x))"
   ]
  },
  {
   "cell_type": "markdown",
   "metadata": {},
   "source": [
    "# A simple instantiation of the object"
   ]
  },
  {
   "cell_type": "code",
   "execution_count": 6,
   "metadata": {},
   "outputs": [
    {
     "name": "stdout",
     "output_type": "stream",
     "text": [
      "My first bike that I bought is TVS Star City +\n"
     ]
    }
   ],
   "source": [
    "class myBike():\n",
    "    def __init__(self,brandName):\n",
    "        self.brandName = brandName         \n",
    "    \n",
    "first = myBike(brandName = \"TVS Star City +\")\n",
    "print(\"My first bike that I bought is {}\".format(first.brandName))"
   ]
  },
  {
   "cell_type": "code",
   "execution_count": 8,
   "metadata": {},
   "outputs": [
    {
     "name": "stdout",
     "output_type": "stream",
     "text": [
      "My second bike that I bought is TVS Wego\n"
     ]
    }
   ],
   "source": [
    "second = myBike(\"TVS Wego\")\n",
    "print(\"My second bike that I bought is {}\".format(second.brandName))"
   ]
  },
  {
   "cell_type": "code",
   "execution_count": 9,
   "metadata": {},
   "outputs": [
    {
     "name": "stdout",
     "output_type": "stream",
     "text": [
      "Help on function __init__ in module __main__:\n",
      "\n",
      "__init__(self, brandName)\n",
      "    Initialize self.  See help(type(self)) for accurate signature.\n",
      "\n"
     ]
    }
   ],
   "source": [
    "help(myBike.__init__)"
   ]
  },
  {
   "cell_type": "markdown",
   "metadata": {},
   "source": [
    "\\_\\_init\\_\\_ is a special Python method that is automatically called when memory is allocated for a new object. The sole purpose of \\_\\_init\\_\\_ is to initialize the values of instance members for the new object"
   ]
  },
  {
   "cell_type": "markdown",
   "metadata": {},
   "source": [
    "# Best practices\n",
    "Don't use the return statement from the \\_\\_init\\_\\_ method that returns a value as it violates the the rule of only using \\_\\_init\\_\\_ to initialize instance members."
   ]
  },
  {
   "cell_type": "code",
   "execution_count": 55,
   "metadata": {},
   "outputs": [
    {
     "name": "stdout",
     "output_type": "stream",
     "text": [
      "vinod\n",
      "Objective is to learn Python which needs persistence and determination\n"
     ]
    }
   ],
   "source": [
    "# Example file for working with classes\n",
    "class myClass():\n",
    "    def method1(self):\n",
    "        print(\"vinod\")\n",
    "        \n",
    "    def method2(self,someString):   \n",
    "        print(\"Objective is to learn Python {}\" .format(someString))\n",
    "  \n",
    "      \n",
    "def main(): \n",
    "    cl = myClass ()\n",
    "    cl.method1()\n",
    "    cl.method2(\"which needs persistence and determination\")\n",
    "  \n",
    "if __name__== \"__main__\":\n",
    "    main()"
   ]
  },
  {
   "cell_type": "markdown",
   "metadata": {},
   "source": [
    "# Mini assignment to write a python class function that reverse the dictionary"
   ]
  },
  {
   "cell_type": "code",
   "execution_count": 32,
   "metadata": {},
   "outputs": [
    {
     "name": "stdout",
     "output_type": "stream",
     "text": [
      "{'vinod.txt': 'Dad', 'Nevaan.txt': 'Dad', 'Lakshmi.txt': 'Mom'}\n",
      "{'Dad': ['vinod.txt', 'Nevaan.txt'], 'Mom': ['Lakshmi.txt']}\n"
     ]
    }
   ],
   "source": [
    "# program to reverse keys and values\n",
    "\n",
    "class DictRever():\n",
    "    def __init__(self, **kwargs):\n",
    "        self.dict1 = kwargs        \n",
    "        \n",
    "    def rev(self):\n",
    "        list1 = self.dict1.keys()\n",
    "        list2 = self.dict1.values()\n",
    "        newDict = dict()\n",
    "        count = 0\n",
    "        dummylist = list()\n",
    "        \n",
    "        for i in list1:        \n",
    "            if self.dict1[i] in list2:\n",
    "                newDict[self.dict1[i]] = newDict.get(self.dict1[i],[]) +[i] \n",
    "        return(newDict)\n",
    "\n",
    "dictVar = {\n",
    "   'vinod.txt':'Dad',\n",
    "   'Nevaan.txt':'Dad',\n",
    "   'Lakshmi.txt':'Mom',   \n",
    "    }\n",
    "\n",
    "print(dictVar)    \n",
    "\n",
    "y = DictRever(**dictVar)\n",
    "\n",
    "print(y.rev())"
   ]
  },
  {
   "cell_type": "markdown",
   "metadata": {},
   "source": [
    "# mini assignment to reverse a class list"
   ]
  },
  {
   "cell_type": "code",
   "execution_count": 33,
   "metadata": {},
   "outputs": [
    {
     "name": "stdout",
     "output_type": "stream",
     "text": [
      "Before list reverse ['Vinod', 'Lakshmi', 'Nevaan']\n",
      "After list reverse (['Vinod', 'Lakshmi', 'Nevaan'],)\n"
     ]
    }
   ],
   "source": [
    "class listRev():\n",
    "    def __init__(self,*args):\n",
    "        self.list1 = args\n",
    "        \n",
    "    def setListRev(self):\n",
    "        list2 = self.list1[::-1]\n",
    "        return list2\n",
    "    \n",
    "list1 =['Vinod','Lakshmi','Nevaan']    \n",
    "print(\"Before list reverse {}\".format(list1))\n",
    "t = listRev(list1)\n",
    "print(\"After list reverse {}\".format(t.setListRev()))\n",
    "        "
   ]
  },
  {
   "cell_type": "markdown",
   "metadata": {},
   "source": [
    "# Class object printing using Python special methods"
   ]
  },
  {
   "cell_type": "code",
   "execution_count": 5,
   "metadata": {},
   "outputs": [
    {
     "name": "stdout",
     "output_type": "stream",
     "text": [
      "The chef name is Vinod and his specialization is South Indian. Also, he was awarded with many stars 5.\n"
     ]
    }
   ],
   "source": [
    "class chef():\n",
    "    def __init__(self,name='',specialization='',stars=int()):\n",
    "        self.name = name\n",
    "        self.specialization = specialization\n",
    "        self.stars = stars\n",
    "        \n",
    "    def __str__(self):\n",
    "        return \"The chef name is {} and his specialization is {}. Also, he was awarded with many stars {}.\".format(self.name,self.specialization,self.stars)\n",
    "    \n",
    "a = chef(\"Vinod\",\"South Indian\",5)    \n",
    "print(a)    \n",
    "    "
   ]
  },
  {
   "cell_type": "code",
   "execution_count": null,
   "metadata": {},
   "outputs": [],
   "source": []
  },
  {
   "cell_type": "markdown",
   "metadata": {},
   "source": [
    "It turns out that the object class provides some special methods with two leading and trailing underscores which are inherited by all the classes. Here are some important methods provided by the object class.\n",
    "\n",
    "\\_\\_new\\_\\_()\n",
    "\n",
    "\\_\\_init\\_\\_()\n",
    "\n",
    "\\_\\_str\\_\\_()\n",
    "\n",
    "The \\_\\_new\\_\\_() method creates the object. After creating the object it calls the \\_\\_init\\_\\_() method to initialize attributes of the object. Finally, it returns the newly created object to the calling program. Normally, we don't override \\_\\_new\\_\\_() method, however if you want to significantly change the way an object is created, you should definitely override it. The \\_\\_str\\_\\_() method is used to return a nicely formatted string representation of the object. The object class version of \\_\\_str\\_\\_() method returns a string containing name of the class and its memory address in hexadecimal. For example:"
   ]
  },
  {
   "cell_type": "code",
   "execution_count": 63,
   "metadata": {},
   "outputs": [
    {
     "name": "stdout",
     "output_type": "stream",
     "text": [
      "Offered vehile name is splender + and its cc\n",
      "Offered vehiles are of type \n"
     ]
    }
   ],
   "source": [
    "class vehicle():\n",
    "\n",
    "    def __init__(self, type1=''):\n",
    "        self.type1 = type1       \n",
    "\n",
    "    def getDetails(self):\n",
    "        return \"Offered vehiles are of type {}\".format(self.type1)\n",
    "\n",
    "\n",
    "\n",
    "class hero(vehicle):\n",
    "\n",
    "    def __init__(self, name, cc):\n",
    "        super().__init__()\n",
    "        self.__name = name\n",
    "        self.__cc = cc\n",
    "\n",
    "    def __str__(self):\n",
    "        return \"Offered vehile name is {} and its cc\".format(self.__name,self.__cc)\n",
    "        \n",
    "v = vehicle(\"bike\")\n",
    "c = hero('splender +',100)\n",
    "print(c)\n",
    "c.getDetails\n",
    "print(c.getDetails())\n",
    "\n"
   ]
  },
  {
   "cell_type": "markdown",
   "metadata": {},
   "source": [
    "# Inheritance Sample project"
   ]
  },
  {
   "cell_type": "code",
   "execution_count": 71,
   "metadata": {},
   "outputs": [
    {
     "name": "stdout",
     "output_type": "stream",
     "text": [
      " Name of the car is swift\n",
      "Year of Manufacturing is 2014\n",
      "Car engine cc is 1000cc\n",
      " Name of the car is zest\n",
      "Year of Manufacturing is 2009\n",
      "Car engine cc is 1000cc\n"
     ]
    }
   ],
   "source": [
    "class fourwheeler():\n",
    "\n",
    "    def __init__(self, cc= '1000cc'):\n",
    "        self.__cc = cc\n",
    "        \n",
    "\n",
    "    def get_cc(self):\n",
    "        return self.__cc\n",
    "\n",
    "    def set_cc(self, cc):\n",
    "        self.__cc = cc\n",
    "\n",
    "\n",
    "\n",
    "\n",
    "class maruthi(fourwheeler):\n",
    "\n",
    "    def __init__(self, name,mfg):\n",
    "        super().__init__()\n",
    "        self.__name = name\n",
    "        self.__mfg = mfg\n",
    "\n",
    "    def get_name(self):\n",
    "        return self.__name\n",
    "\n",
    "    def set_name(self, name):\n",
    "        self.__name = name\n",
    "\n",
    "    def get_mfg(self):\n",
    "        return self.__mfg\n",
    "\n",
    "    def set_mfg(self, mfg):\n",
    "        self.__mfg = mfg\n",
    "\n",
    "\n",
    "class tata(fourwheeler):\n",
    "    def __init__(self, name,mfg):\n",
    "        super().__init__()\n",
    "        self.__name = name\n",
    "        self.__mfg = mfg\n",
    "\n",
    "    def get_name(self):\n",
    "        return self.__name\n",
    "\n",
    "    def set_name(self, name):\n",
    "        self.__name = name\n",
    "\n",
    "    def get_mfg(self):\n",
    "        return self.__mfg\n",
    "\n",
    "    def set_mfg(self, mfg):\n",
    "        self.__mfg = mfg\n",
    "\n",
    "\n",
    "car1 = maruthi('swift', 2014)\n",
    "\n",
    "print(\" Name of the car is {}\".format(car1.get_name()))\n",
    "print(\"Year of Manufacturing is {}\" .format(car1.get_mfg()))\n",
    "print(\"Car engine cc is {}\" .format(car1.get_cc()))\n",
    "\n",
    "car2 = tata('zest',2009)\n",
    "\n",
    "print(\" Name of the car is {}\" .format(car2.get_name()))\n",
    "print(\"Year of Manufacturing is {}\" .format(car2.get_mfg()))\n",
    "print(\"Car engine cc is {}\" .format(car2.get_cc()))"
   ]
  },
  {
   "cell_type": "code",
   "execution_count": null,
   "metadata": {},
   "outputs": [],
   "source": []
  }
 ],
 "metadata": {
  "kernelspec": {
   "display_name": "Python 3",
   "language": "python",
   "name": "python3"
  },
  "language_info": {
   "codemirror_mode": {
    "name": "ipython",
    "version": 3
   },
   "file_extension": ".py",
   "mimetype": "text/x-python",
   "name": "python",
   "nbconvert_exporter": "python",
   "pygments_lexer": "ipython3",
   "version": "3.6.5"
  }
 },
 "nbformat": 4,
 "nbformat_minor": 2
}
